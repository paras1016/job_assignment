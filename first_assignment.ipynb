{
 "cells": [
  {
   "cell_type": "markdown",
   "id": "5dffd0c1",
   "metadata": {},
   "source": [
    "The dataset required for the tasks can be found here:\n",
    "\n",
    "http://busibud.com/ml_tasks.zip\n",
    "\n",
    "\n",
    "\n",
    "For this task, we would prefer if you worked on a notebook format for all of the tasks you need to undertake, including data cleaning, transformation, numerical simulation, statistical modeling, data visualization, machine learning, etc. Please make sure it is as expressive as possible.\n",
    "\n",
    "\n",
    "\n",
    "Task\n",
    "\n",
    "Here you would need to create a model which assigns a customer to a certain customer category based on the total value of orders they’ve placed. This would let us target the most valuable customers with certain offers which promote a higher spend.\n",
    "\n",
    "The dataset is a CSV, where each row represents an sku which is a part of an order. The different columns are described below. Every conversation included has at least one request from a consumer and at least one response from a company. Which user IDs are company user IDs can be calculated using the inbound field.\n",
    "\n",
    "Content\n",
    "InvoiceNo\n",
    "A single invoice number represents one order that was placed. There might be multiple rows for the same invoice number, representing the different SKUs that were ordered.\n",
    "\n",
    "\n",
    "StockCode\n",
    "This represents the sku for the particular item that was ordered.\n",
    "\n",
    "\n",
    "Description\n",
    "This describes the exact item that was ordered in words.\n",
    "\n",
    "\n",
    "Quantity\n",
    "The quantity of the specific sku that was ordered.\n",
    "\n",
    "\n",
    "InvoiceDate\n",
    "This is the date the order was placed.\n",
    "\n",
    "\n",
    "UnitPrice\n",
    "This is the price of the particular sku that was ordered.\n",
    "\n",
    "\n",
    "CustomerID\n",
    "An anonymized ID of the customer who placed the order."
   ]
  },
  {
   "cell_type": "code",
   "execution_count": 74,
   "id": "946f9eea",
   "metadata": {},
   "outputs": [],
   "source": [
    "import numpy as np\n",
    "import pandas as pd\n",
    "import seaborn as sns\n",
    "from xgboost import XGBRegressor,XGBClassifier   #xgboost package is required\n",
    "from category_encoders.ordinal import OrdinalEncoder  #category_encoders package is required\n",
    "from sklearn.model_selection import train_test_split,cross_val_score,GridSearchCV  # sklearn package required"
   ]
  },
  {
   "cell_type": "markdown",
   "id": "c696bfbf",
   "metadata": {},
   "source": [
    "## loading the data and understand it."
   ]
  },
  {
   "cell_type": "code",
   "execution_count": 2,
   "id": "00b29aa1",
   "metadata": {},
   "outputs": [],
   "source": [
    "Xdata = pd.read_csv(r\"C:\\Users\\shiva\\job_practice\\ml_tasks\\ml_tasks\\ml_task_1\\data.csv\")"
   ]
  },
  {
   "cell_type": "code",
   "execution_count": 3,
   "id": "363f004f",
   "metadata": {},
   "outputs": [
    {
     "data": {
      "text/plain": [
       "(541909, 8)"
      ]
     },
     "execution_count": 3,
     "metadata": {},
     "output_type": "execute_result"
    }
   ],
   "source": [
    "Xdata.shape"
   ]
  },
  {
   "cell_type": "code",
   "execution_count": 4,
   "id": "4e48d0d0",
   "metadata": {},
   "outputs": [
    {
     "data": {
      "text/html": [
       "<div>\n",
       "<style scoped>\n",
       "    .dataframe tbody tr th:only-of-type {\n",
       "        vertical-align: middle;\n",
       "    }\n",
       "\n",
       "    .dataframe tbody tr th {\n",
       "        vertical-align: top;\n",
       "    }\n",
       "\n",
       "    .dataframe thead th {\n",
       "        text-align: right;\n",
       "    }\n",
       "</style>\n",
       "<table border=\"1\" class=\"dataframe\">\n",
       "  <thead>\n",
       "    <tr style=\"text-align: right;\">\n",
       "      <th></th>\n",
       "      <th>InvoiceNo</th>\n",
       "      <th>StockCode</th>\n",
       "      <th>Description</th>\n",
       "      <th>Quantity</th>\n",
       "      <th>InvoiceDate</th>\n",
       "      <th>UnitPrice</th>\n",
       "      <th>CustomerID</th>\n",
       "      <th>Country</th>\n",
       "    </tr>\n",
       "  </thead>\n",
       "  <tbody>\n",
       "    <tr>\n",
       "      <th>0</th>\n",
       "      <td>536365</td>\n",
       "      <td>85123A</td>\n",
       "      <td>WHITE HANGING HEART T-LIGHT HOLDER</td>\n",
       "      <td>6</td>\n",
       "      <td>12/1/2010 8:26</td>\n",
       "      <td>2.55</td>\n",
       "      <td>17850.0</td>\n",
       "      <td>United Kingdom</td>\n",
       "    </tr>\n",
       "    <tr>\n",
       "      <th>1</th>\n",
       "      <td>536365</td>\n",
       "      <td>71053</td>\n",
       "      <td>WHITE METAL LANTERN</td>\n",
       "      <td>6</td>\n",
       "      <td>12/1/2010 8:26</td>\n",
       "      <td>3.39</td>\n",
       "      <td>17850.0</td>\n",
       "      <td>United Kingdom</td>\n",
       "    </tr>\n",
       "    <tr>\n",
       "      <th>2</th>\n",
       "      <td>536365</td>\n",
       "      <td>84406B</td>\n",
       "      <td>CREAM CUPID HEARTS COAT HANGER</td>\n",
       "      <td>8</td>\n",
       "      <td>12/1/2010 8:26</td>\n",
       "      <td>2.75</td>\n",
       "      <td>17850.0</td>\n",
       "      <td>United Kingdom</td>\n",
       "    </tr>\n",
       "    <tr>\n",
       "      <th>3</th>\n",
       "      <td>536365</td>\n",
       "      <td>84029G</td>\n",
       "      <td>KNITTED UNION FLAG HOT WATER BOTTLE</td>\n",
       "      <td>6</td>\n",
       "      <td>12/1/2010 8:26</td>\n",
       "      <td>3.39</td>\n",
       "      <td>17850.0</td>\n",
       "      <td>United Kingdom</td>\n",
       "    </tr>\n",
       "    <tr>\n",
       "      <th>4</th>\n",
       "      <td>536365</td>\n",
       "      <td>84029E</td>\n",
       "      <td>RED WOOLLY HOTTIE WHITE HEART.</td>\n",
       "      <td>6</td>\n",
       "      <td>12/1/2010 8:26</td>\n",
       "      <td>3.39</td>\n",
       "      <td>17850.0</td>\n",
       "      <td>United Kingdom</td>\n",
       "    </tr>\n",
       "  </tbody>\n",
       "</table>\n",
       "</div>"
      ],
      "text/plain": [
       "  InvoiceNo StockCode                          Description  Quantity  \\\n",
       "0    536365    85123A   WHITE HANGING HEART T-LIGHT HOLDER         6   \n",
       "1    536365     71053                  WHITE METAL LANTERN         6   \n",
       "2    536365    84406B       CREAM CUPID HEARTS COAT HANGER         8   \n",
       "3    536365    84029G  KNITTED UNION FLAG HOT WATER BOTTLE         6   \n",
       "4    536365    84029E       RED WOOLLY HOTTIE WHITE HEART.         6   \n",
       "\n",
       "      InvoiceDate  UnitPrice  CustomerID         Country  \n",
       "0  12/1/2010 8:26       2.55     17850.0  United Kingdom  \n",
       "1  12/1/2010 8:26       3.39     17850.0  United Kingdom  \n",
       "2  12/1/2010 8:26       2.75     17850.0  United Kingdom  \n",
       "3  12/1/2010 8:26       3.39     17850.0  United Kingdom  \n",
       "4  12/1/2010 8:26       3.39     17850.0  United Kingdom  "
      ]
     },
     "execution_count": 4,
     "metadata": {},
     "output_type": "execute_result"
    }
   ],
   "source": [
    "Xdata.head()"
   ]
  },
  {
   "cell_type": "code",
   "execution_count": 5,
   "id": "6dc0433a",
   "metadata": {},
   "outputs": [],
   "source": [
    "# function to check missing columns in the dataset\n",
    "def find_missing(Xdata):\n",
    "    \"\"\"\n",
    "    Xdata: dataframe\n",
    "    return sorted missing values columns of given dataset.\n",
    "    \"\"\" \n",
    "    from IPython.display import display\n",
    "    missing_values_columns = [[col,Xdata[col].isnull().sum(),Xdata[col].dtypes] for col in Xdata.columns if Xdata[col].isnull().any()]\n",
    "    display(sorted(missing_values_columns, key=(lambda k:k[1])),len(missing_values_columns))\n",
    "    \n",
    "# convert Invoice date into 4 different features \n",
    "def date_to_features(df,c_n):\n",
    "    \"\"\"\n",
    "    df: dataframe\n",
    "    c_n: column name of datetime type\n",
    "    \n",
    "    \"\"\"\n",
    "    df['Invoice_Year'] = pd.to_datetime(df[c_n]).dt.year\n",
    "    df['Invoice_month'] = pd.to_datetime(df[c_n]).dt.month\n",
    "    df['Invoice_day'] = pd.to_datetime(df[c_n]).dt.day\n",
    "    df['Invoice_time'] = pd.to_datetime(df[c_n]).dt.time"
   ]
  },
  {
   "cell_type": "code",
   "execution_count": 6,
   "id": "0ea4e826",
   "metadata": {},
   "outputs": [
    {
     "data": {
      "text/plain": [
       "[['Description', 1454, dtype('O')], ['CustomerID', 135080, dtype('float64')]]"
      ]
     },
     "metadata": {},
     "output_type": "display_data"
    },
    {
     "data": {
      "text/plain": [
       "2"
      ]
     },
     "metadata": {},
     "output_type": "display_data"
    }
   ],
   "source": [
    "find_missing(Xdata)"
   ]
  },
  {
   "cell_type": "code",
   "execution_count": 7,
   "id": "97272edc",
   "metadata": {},
   "outputs": [
    {
     "data": {
      "text/plain": [
       "(-11062.06, 38970.0)"
      ]
     },
     "execution_count": 7,
     "metadata": {},
     "output_type": "execute_result"
    }
   ],
   "source": [
    "Xdata.UnitPrice.min(),Xdata.UnitPrice.max()  # check value range of CustomerID"
   ]
  },
  {
   "cell_type": "markdown",
   "id": "b45ffcb0",
   "metadata": {},
   "source": [
    "### Some information about the dataset we found are\n",
    "1. Dataset has 541909 rows \n",
    "2. InvoiceNo feature has 25900 unique entries and 3710 unique entries when CustomerID null.\n",
    "3. StockCode feature has 4070 unique entries means total 4070 items in stock\n",
    "\n",
    "    3.1 StockCode startwith digit only help in our problem others are charges or discount or various fees as given in description\n",
    "    \n",
    "4. Description feature has 4223 unique entries meaning 1 stockcode may have different description: ex: white or cream product have same stockcode\n",
    "5. Qunatity feature has values from -80995 to 80995\n",
    "\n",
    "    5.1 There are 5172 Invoices with negative values has corresponding 1589 CustomersId ( excluding null)\n",
    "    \n",
    "    5.2 Total of 2559 type of stocks but (as StockCode and description mentioned) negative quantity represents\n",
    "    \n",
    "        5.1.1 Discounts, Postage, Amazonfee, Samples, Bank Charges, Manual, CRUK Commission etc(delete these rows).\n",
    "        5.2.2 negative also represent items returned. \n",
    "\n",
    "6. InvoiceDate range from 2010/12/01 to 2011/12/09(YYYY-MM-DD)\n",
    "7. UnitPrice Range (-11062.06, 38970.0)\n",
    "\n",
    "    7.1 **Some UnitPrie feature have 0 values delete those rows because they don't play a role in our output**\n",
    "    \n",
    "    7.2 **Negative UnitPrice mentioned in description is bad debt and no CustomerId so delete those rows also**\n",
    "    \n",
    "8. CustomerID has total 4373 unique numbers range between 12346-18287 (excluding null values)\n",
    "\n",
    "\n",
    "### Data cleaning :\n",
    "\n",
    "1. As mentioned in 5.1.1 delete stockcode not starting with digit\n",
    "2. As mentioned in 7.1 and 7.2 delete less than or equal to zero UnitPrice cells.\n",
    "3. \n",
    "\n",
    "NOTE: As we just have to categorise our customer based on total value of orders they’ve placed, important features for us are only \n"
   ]
  },
  {
   "cell_type": "code",
   "execution_count": 8,
   "id": "9e0bb3c1",
   "metadata": {},
   "outputs": [],
   "source": [
    "# follow point 5.1.1\n",
    "Xdata = Xdata[Xdata.StockCode.str[0].str.isdigit()]"
   ]
  },
  {
   "cell_type": "code",
   "execution_count": 9,
   "id": "d3faa1af",
   "metadata": {},
   "outputs": [],
   "source": [
    "# follow point 7.1 and 7.2\n",
    "Less_equal_UnitPrice = Xdata.loc[Xdata.UnitPrice<=0].index\n",
    "Xdata = Xdata.drop(labels=Less_equal_UnitPrice)"
   ]
  },
  {
   "cell_type": "code",
   "execution_count": 10,
   "id": "6223bb71",
   "metadata": {},
   "outputs": [],
   "source": [
    "#convert Invoice date into datetime format\n",
    "Xdata.InvoiceDate = pd.to_datetime(Xdata.InvoiceDate,format=\"%m%d%Y %H:%M\",infer_datetime_format=True)"
   ]
  },
  {
   "cell_type": "markdown",
   "id": "d6130108",
   "metadata": {},
   "source": [
    "### handling missing values\n",
    "\n",
    "1. No need to deal with Null value of Description feature, already handled with our data cleaning. \n",
    "1. CustomerID has 131553 null values remaining\n",
    "    1.1 either we remove all the rows with null value.\n",
    "    1.2 or we can predict CustomerID using other features. (XGBoost algo is used for this)\n"
   ]
  },
  {
   "cell_type": "code",
   "execution_count": 11,
   "id": "f558d754",
   "metadata": {},
   "outputs": [],
   "source": [
    "Customer_id_null = Xdata.loc[Xdata.CustomerID.isnull()==True].index\n",
    "Xdata_train = Xdata.drop(labels=Customer_id_null)\n",
    "Xdata_test = Xdata.loc[Xdata.CustomerID.isnull()==True]"
   ]
  },
  {
   "cell_type": "code",
   "execution_count": 12,
   "id": "99872611",
   "metadata": {},
   "outputs": [],
   "source": [
    "Xdata_train = Xdata_train.reset_index(drop=True)\n",
    "Xdata_test = Xdata_test.reset_index(drop=True)"
   ]
  },
  {
   "cell_type": "code",
   "execution_count": 13,
   "id": "9e055f3e",
   "metadata": {},
   "outputs": [],
   "source": [
    "# to check weather our predicted value of customer id are out of range or not\n",
    "customer_id = set(Xdata_train.CustomerID)"
   ]
  },
  {
   "cell_type": "markdown",
   "id": "af8c48e1",
   "metadata": {},
   "source": [
    "### data transformation \n",
    "\n",
    "1. convert Invoice date into 4 different features which helps in categorization of customer and finding null value of CustomerID\n",
    "2. apply label encoding on categorical features.\n",
    "\n",
    "Note: drop InvoiceDate feature because too many categories only used for forcasting of sales not good for customer categorization"
   ]
  },
  {
   "cell_type": "code",
   "execution_count": 14,
   "id": "86b558ef",
   "metadata": {},
   "outputs": [],
   "source": [
    "date_to_features(Xdata_train,\"InvoiceDate\")\n",
    "date_to_features(Xdata_test,\"InvoiceDate\")"
   ]
  },
  {
   "cell_type": "code",
   "execution_count": 15,
   "id": "3b2564c5",
   "metadata": {},
   "outputs": [],
   "source": [
    "Xdata_train = Xdata_train.drop(labels=\"InvoiceDate\",axis=1)\n",
    "Xdata_test = Xdata_test.drop(labels=\"InvoiceDate\",axis=1)"
   ]
  },
  {
   "cell_type": "code",
   "execution_count": 16,
   "id": "ade26cae",
   "metadata": {},
   "outputs": [],
   "source": [
    "cat_feature = [\"InvoiceNo\",\"StockCode\",\"Description\",\"Country\",\"Invoice_Year\",\"Invoice_month\",\"Invoice_day\",\"Invoice_time\"]"
   ]
  },
  {
   "cell_type": "code",
   "execution_count": 17,
   "id": "4ee41f1e",
   "metadata": {},
   "outputs": [],
   "source": [
    "cat_encoder = OrdinalEncoder(cols=cat_feature)\n",
    "labeled_Xdata_train = cat_encoder.fit_transform(Xdata_train)\n",
    "labeled_Xdata_test = cat_encoder.transform(Xdata_test)"
   ]
  },
  {
   "cell_type": "code",
   "execution_count": 18,
   "id": "60553cd5",
   "metadata": {},
   "outputs": [],
   "source": [
    "X_train, X_val, y_train, y_val = train_test_split(labeled_Xdata_train.drop(labels=\"CustomerID\",axis=1),\n",
    "                                                  labeled_Xdata_train.CustomerID,\n",
    "                                                  test_size=0.25, \n",
    "                                                  random_state=42\n",
    "                                                 )"
   ]
  },
  {
   "cell_type": "markdown",
   "id": "3a1790d5",
   "metadata": {},
   "source": [
    "### Pricipal component analysis can be applied to reduce dimensionality"
   ]
  },
  {
   "cell_type": "code",
   "execution_count": 262,
   "id": "2fe879d4",
   "metadata": {},
   "outputs": [
    {
     "data": {
      "text/html": [
       "<div>\n",
       "<style scoped>\n",
       "    .dataframe tbody tr th:only-of-type {\n",
       "        vertical-align: middle;\n",
       "    }\n",
       "\n",
       "    .dataframe tbody tr th {\n",
       "        vertical-align: top;\n",
       "    }\n",
       "\n",
       "    .dataframe thead th {\n",
       "        text-align: right;\n",
       "    }\n",
       "</style>\n",
       "<table border=\"1\" class=\"dataframe\">\n",
       "  <thead>\n",
       "    <tr style=\"text-align: right;\">\n",
       "      <th></th>\n",
       "      <th>PC1</th>\n",
       "      <th>PC2</th>\n",
       "      <th>PC3</th>\n",
       "      <th>PC4</th>\n",
       "      <th>PC5</th>\n",
       "      <th>PC6</th>\n",
       "      <th>PC7</th>\n",
       "      <th>PC8</th>\n",
       "      <th>PC9</th>\n",
       "      <th>PC10</th>\n",
       "    </tr>\n",
       "  </thead>\n",
       "  <tbody>\n",
       "    <tr>\n",
       "      <th>0</th>\n",
       "      <td>3463.633746</td>\n",
       "      <td>2539.034327</td>\n",
       "      <td>-55.516287</td>\n",
       "      <td>-2.111241</td>\n",
       "      <td>287.359294</td>\n",
       "      <td>-0.737741</td>\n",
       "      <td>-1.360503</td>\n",
       "      <td>5.037146</td>\n",
       "      <td>-0.063912</td>\n",
       "      <td>-0.086561</td>\n",
       "    </tr>\n",
       "    <tr>\n",
       "      <th>1</th>\n",
       "      <td>-3702.623366</td>\n",
       "      <td>-204.889861</td>\n",
       "      <td>-52.050716</td>\n",
       "      <td>4.919023</td>\n",
       "      <td>150.100235</td>\n",
       "      <td>10.363885</td>\n",
       "      <td>0.927675</td>\n",
       "      <td>-0.815625</td>\n",
       "      <td>-0.521076</td>\n",
       "      <td>0.064105</td>\n",
       "    </tr>\n",
       "    <tr>\n",
       "      <th>2</th>\n",
       "      <td>-225.787050</td>\n",
       "      <td>2705.509301</td>\n",
       "      <td>-40.558451</td>\n",
       "      <td>4.003827</td>\n",
       "      <td>-208.202511</td>\n",
       "      <td>2.812136</td>\n",
       "      <td>-2.151248</td>\n",
       "      <td>-0.616276</td>\n",
       "      <td>-0.357611</td>\n",
       "      <td>-0.050284</td>\n",
       "    </tr>\n",
       "    <tr>\n",
       "      <th>3</th>\n",
       "      <td>-6076.744973</td>\n",
       "      <td>-1636.407883</td>\n",
       "      <td>-36.636819</td>\n",
       "      <td>8.010042</td>\n",
       "      <td>202.078369</td>\n",
       "      <td>13.056258</td>\n",
       "      <td>-0.759592</td>\n",
       "      <td>-0.781003</td>\n",
       "      <td>-0.371692</td>\n",
       "      <td>0.114151</td>\n",
       "    </tr>\n",
       "    <tr>\n",
       "      <th>4</th>\n",
       "      <td>-6020.683263</td>\n",
       "      <td>794.585119</td>\n",
       "      <td>-78.987221</td>\n",
       "      <td>6.376452</td>\n",
       "      <td>-181.609613</td>\n",
       "      <td>10.026136</td>\n",
       "      <td>-2.034307</td>\n",
       "      <td>-0.566054</td>\n",
       "      <td>-0.433868</td>\n",
       "      <td>0.080756</td>\n",
       "    </tr>\n",
       "  </tbody>\n",
       "</table>\n",
       "</div>"
      ],
      "text/plain": [
       "           PC1          PC2        PC3       PC4         PC5        PC6  \\\n",
       "0  3463.633746  2539.034327 -55.516287 -2.111241  287.359294  -0.737741   \n",
       "1 -3702.623366  -204.889861 -52.050716  4.919023  150.100235  10.363885   \n",
       "2  -225.787050  2705.509301 -40.558451  4.003827 -208.202511   2.812136   \n",
       "3 -6076.744973 -1636.407883 -36.636819  8.010042  202.078369  13.056258   \n",
       "4 -6020.683263   794.585119 -78.987221  6.376452 -181.609613  10.026136   \n",
       "\n",
       "        PC7       PC8       PC9      PC10  \n",
       "0 -1.360503  5.037146 -0.063912 -0.086561  \n",
       "1  0.927675 -0.815625 -0.521076  0.064105  \n",
       "2 -2.151248 -0.616276 -0.357611 -0.050284  \n",
       "3 -0.759592 -0.781003 -0.371692  0.114151  \n",
       "4 -2.034307 -0.566054 -0.433868  0.080756  "
      ]
     },
     "execution_count": 262,
     "metadata": {},
     "output_type": "execute_result"
    }
   ],
   "source": [
    "from sklearn.decomposition import PCA\n",
    "\n",
    "# Create principal components\n",
    "pca = PCA()\n",
    "X_pca = pca.fit_transform(X_train)\n",
    "\n",
    "# Convert to dataframe\n",
    "component_names = [f\"PC{i+1}\" for i in range(X_pca.shape[1])]\n",
    "X_pca = pd.DataFrame(X_pca, columns=component_names)\n",
    "\n",
    "X_pca.head()"
   ]
  },
  {
   "cell_type": "code",
   "execution_count": 263,
   "id": "28cb1522",
   "metadata": {},
   "outputs": [],
   "source": [
    "loadings = pd.DataFrame(\n",
    "    pca.components_.T,  # transpose the matrix of loadings\n",
    "    columns=component_names,  # so the columns are the principal components\n",
    "    index=X_train.columns,  # and the rows are the original features\n",
    ")"
   ]
  },
  {
   "cell_type": "code",
   "execution_count": 264,
   "id": "8250308e",
   "metadata": {},
   "outputs": [],
   "source": [
    "def plot_variance(pca, width=10, dpi=100):\n",
    "    # Create figure\n",
    "    fig, axs = plt.subplots(1, 2)\n",
    "    n = pca.n_components_\n",
    "    grid = np.arange(1, n + 1)\n",
    "    # Explained variance\n",
    "    evr = pca.explained_variance_ratio_\n",
    "    axs[0].bar(grid, evr)\n",
    "    axs[0].set(\n",
    "        xlabel=\"Component\", title=\"% Explained Variance\", ylim=(0.0, 1.0)\n",
    "    )\n",
    "    # Cumulative Variance\n",
    "    cv = np.cumsum(evr)\n",
    "    axs[1].plot(np.r_[0, grid], np.r_[0, cv], \"o-\")\n",
    "    axs[1].set(\n",
    "        xlabel=\"Component\", title=\"% Cumulative Variance\", ylim=(0.0, 1.05)\n",
    "    )\n",
    "    # Set up figure\n",
    "    fig.set(figwidth=10, dpi=100)\n",
    "    return axs"
   ]
  },
  {
   "cell_type": "code",
   "execution_count": 265,
   "id": "59aed7cc",
   "metadata": {},
   "outputs": [
    {
     "data": {
      "application/javascript": [
       "\n",
       "        if (window._pyforest_update_imports_cell) { window._pyforest_update_imports_cell('import matplotlib.pyplot as plt\\nfrom sklearn.model_selection import train_test_split'); }\n",
       "    "
      ],
      "text/plain": [
       "<IPython.core.display.Javascript object>"
      ]
     },
     "metadata": {},
     "output_type": "display_data"
    },
    {
     "data": {
      "text/plain": [
       "array([<AxesSubplot:title={'center':'% Explained Variance'}, xlabel='Component'>,\n",
       "       <AxesSubplot:title={'center':'% Cumulative Variance'}, xlabel='Component'>],\n",
       "      dtype=object)"
      ]
     },
     "execution_count": 265,
     "metadata": {},
     "output_type": "execute_result"
    },
    {
     "data": {
      "image/png": "[encoded data removed]",
      "text/plain": [
       "<Figure size 1000x400 with 2 Axes>"
      ]
     },
     "metadata": {
      "needs_background": "light"
     },
     "output_type": "display_data"
    }
   ],
   "source": [
    "plot_variance(pca)"
   ]
  },
  {
   "cell_type": "markdown",
   "id": "b0af0080",
   "metadata": {},
   "source": [
    "From above graph we can see that PC1 and PC2 both can be done a good job and treat as 2 feature dataset to find CustomerID\n",
    "\n",
    "we can ensemble of our 10 featured and this as a single method for prediction of CustomerID"
   ]
  },
  {
   "cell_type": "code",
   "execution_count": 83,
   "id": "7fa2ca8b",
   "metadata": {},
   "outputs": [],
   "source": [
    "xgboost_custmorID = XGBRegressor(n_estimators=400,learning_rate=0.1,early_stopping_rounds=10,eval_metric='rmse',random_state=34,n_jobs=4,)\n",
    "# xgboost_custmorID = XGBClassifier()"
   ]
  },
  {
   "cell_type": "code",
   "execution_count": 50,
   "id": "b69fd4a0",
   "metadata": {},
   "outputs": [],
   "source": [
    "# grid = { \n",
    "#     'n_estimators': [100,200,300,400,500],\n",
    "#     'max_features': ['sqrt', 'log2'],\n",
    "#     'learning_rate': [0.1,0.2,0.3],\n",
    "#     'max_depth' : [4,5,6,7,8],\n",
    "#     'criterion' :['gini', 'entropy'],\n",
    "#     'random_state' : [18]\n",
    "# }\n",
    "# rf_cv = GridSearchCV(estimator=xgboost_custmorID, param_grid=grid)\n",
    "# rf_cv.fit(X_train, y_train)\n",
    "# rf_cv.best_params_"
   ]
  },
  {
   "cell_type": "code",
   "execution_count": 75,
   "id": "3ae2802d",
   "metadata": {},
   "outputs": [],
   "source": [
    "# scores = -1 * cross_val_score(xgboost_custmorID, X_train, y_train,scoring='accuracy',cv=5,fit_params={'eval_set': [(X_val, y_val)],'verbose':False})\n",
    "# print(\"Mean cross-validation score: %.2f\" % scores.mean())"
   ]
  },
  {
   "cell_type": "code",
   "execution_count": 85,
   "id": "8f7c8164",
   "metadata": {},
   "outputs": [
    {
     "data": {
      "text/html": [
       "<style>#sk-container-id-2 {color: black;background-color: white;}#sk-container-id-2 pre{padding: 0;}#sk-container-id-2 div.sk-toggleable {background-color: white;}#sk-container-id-2 label.sk-toggleable__label {cursor: pointer;display: block;width: 100%;margin-bottom: 0;padding: 0.3em;box-sizing: border-box;text-align: center;}#sk-container-id-2 label.sk-toggleable__label-arrow:before {content: \"▸\";float: left;margin-right: 0.25em;color: #696969;}#sk-container-id-2 label.sk-toggleable__label-arrow:hover:before {color: black;}#sk-container-id-2 div.sk-estimator:hover label.sk-toggleable__label-arrow:before {color: black;}#sk-container-id-2 div.sk-toggleable__content {max-height: 0;max-width: 0;overflow: hidden;text-align: left;background-color: #f0f8ff;}#sk-container-id-2 div.sk-toggleable__content pre {margin: 0.2em;color: black;border-radius: 0.25em;background-color: #f0f8ff;}#sk-container-id-2 input.sk-toggleable__control:checked~div.sk-toggleable__content {max-height: 200px;max-width: 100%;overflow: auto;}#sk-container-id-2 input.sk-toggleable__control:checked~label.sk-toggleable__label-arrow:before {content: \"▾\";}#sk-container-id-2 div.sk-estimator input.sk-toggleable__control:checked~label.sk-toggleable__label {background-color: #d4ebff;}#sk-container-id-2 div.sk-label input.sk-toggleable__control:checked~label.sk-toggleable__label {background-color: #d4ebff;}#sk-container-id-2 input.sk-hidden--visually {border: 0;clip: rect(1px 1px 1px 1px);clip: rect(1px, 1px, 1px, 1px);height: 1px;margin: -1px;overflow: hidden;padding: 0;position: absolute;width: 1px;}#sk-container-id-2 div.sk-estimator {font-family: monospace;background-color: #f0f8ff;border: 1px dotted black;border-radius: 0.25em;box-sizing: border-box;margin-bottom: 0.5em;}#sk-container-id-2 div.sk-estimator:hover {background-color: #d4ebff;}#sk-container-id-2 div.sk-parallel-item::after {content: \"\";width: 100%;border-bottom: 1px solid gray;flex-grow: 1;}#sk-container-id-2 div.sk-label:hover label.sk-toggleable__label {background-color: #d4ebff;}#sk-container-id-2 div.sk-serial::before {content: \"\";position: absolute;border-left: 1px solid gray;box-sizing: border-box;top: 0;bottom: 0;left: 50%;z-index: 0;}#sk-container-id-2 div.sk-serial {display: flex;flex-direction: column;align-items: center;background-color: white;padding-right: 0.2em;padding-left: 0.2em;position: relative;}#sk-container-id-2 div.sk-item {position: relative;z-index: 1;}#sk-container-id-2 div.sk-parallel {display: flex;align-items: stretch;justify-content: center;background-color: white;position: relative;}#sk-container-id-2 div.sk-item::before, #sk-container-id-2 div.sk-parallel-item::before {content: \"\";position: absolute;border-left: 1px solid gray;box-sizing: border-box;top: 0;bottom: 0;left: 50%;z-index: -1;}#sk-container-id-2 div.sk-parallel-item {display: flex;flex-direction: column;z-index: 1;position: relative;background-color: white;}#sk-container-id-2 div.sk-parallel-item:first-child::after {align-self: flex-end;width: 50%;}#sk-container-id-2 div.sk-parallel-item:last-child::after {align-self: flex-start;width: 50%;}#sk-container-id-2 div.sk-parallel-item:only-child::after {width: 0;}#sk-container-id-2 div.sk-dashed-wrapped {border: 1px dashed gray;margin: 0 0.4em 0.5em 0.4em;box-sizing: border-box;padding-bottom: 0.4em;background-color: white;}#sk-container-id-2 div.sk-label label {font-family: monospace;font-weight: bold;display: inline-block;line-height: 1.2em;}#sk-container-id-2 div.sk-label-container {text-align: center;}#sk-container-id-2 div.sk-container {/* jupyter's `normalize.less` sets `[hidden] { display: none; }` but bootstrap.min.css set `[hidden] { display: none !important; }` so we also need the `!important` here to be able to override the default hidden behavior on the sphinx rendered scikit-learn.org. See: https://github.com/scikit-learn/scikit-learn/issues/21755 */display: inline-block !important;position: relative;}#sk-container-id-2 div.sk-text-repr-fallback {display: none;}</style><div id=\"sk-container-id-2\" class=\"sk-top-container\"><div class=\"sk-text-repr-fallback\"><pre>XGBRegressor(base_score=0.5, booster=&#x27;gbtree&#x27;, callbacks=None,\n",
       "             colsample_bylevel=1, colsample_bynode=1, colsample_bytree=1,\n",
       "             early_stopping_rounds=10, enable_categorical=False,\n",
       "             eval_metric=&#x27;rmse&#x27;, gamma=0, gpu_id=-1, grow_policy=&#x27;depthwise&#x27;,\n",
       "             importance_type=None, interaction_constraints=&#x27;&#x27;,\n",
       "             learning_rate=0.1, max_bin=256, max_cat_to_onehot=4,\n",
       "             max_delta_step=0, max_depth=6, max_leaves=0, min_child_weight=1,\n",
       "             missing=nan, monotone_constraints=&#x27;()&#x27;, n_estimators=400, n_jobs=4,\n",
       "             num_parallel_tree=1, predictor=&#x27;auto&#x27;, random_state=34,\n",
       "             reg_alpha=0, reg_lambda=1, ...)</pre><b>In a Jupyter environment, please rerun this cell to show the HTML representation or trust the notebook. <br />On GitHub, the HTML representation is unable to render, please try loading this page with nbviewer.org.</b></div><div class=\"sk-container\" hidden><div class=\"sk-item\"><div class=\"sk-estimator sk-toggleable\"><input class=\"sk-toggleable__control sk-hidden--visually\" id=\"sk-estimator-id-2\" type=\"checkbox\" checked><label for=\"sk-estimator-id-2\" class=\"sk-toggleable__label sk-toggleable__label-arrow\">XGBRegressor</label><div class=\"sk-toggleable__content\"><pre>XGBRegressor(base_score=0.5, booster=&#x27;gbtree&#x27;, callbacks=None,\n",
       "             colsample_bylevel=1, colsample_bynode=1, colsample_bytree=1,\n",
       "             early_stopping_rounds=10, enable_categorical=False,\n",
       "             eval_metric=&#x27;rmse&#x27;, gamma=0, gpu_id=-1, grow_policy=&#x27;depthwise&#x27;,\n",
       "             importance_type=None, interaction_constraints=&#x27;&#x27;,\n",
       "             learning_rate=0.1, max_bin=256, max_cat_to_onehot=4,\n",
       "             max_delta_step=0, max_depth=6, max_leaves=0, min_child_weight=1,\n",
       "             missing=nan, monotone_constraints=&#x27;()&#x27;, n_estimators=400, n_jobs=4,\n",
       "             num_parallel_tree=1, predictor=&#x27;auto&#x27;, random_state=34,\n",
       "             reg_alpha=0, reg_lambda=1, ...)</pre></div></div></div></div></div>"
      ],
      "text/plain": [
       "XGBRegressor(base_score=0.5, booster='gbtree', callbacks=None,\n",
       "             colsample_bylevel=1, colsample_bynode=1, colsample_bytree=1,\n",
       "             early_stopping_rounds=10, enable_categorical=False,\n",
       "             eval_metric='rmse', gamma=0, gpu_id=-1, grow_policy='depthwise',\n",
       "             importance_type=None, interaction_constraints='',\n",
       "             learning_rate=0.1, max_bin=256, max_cat_to_onehot=4,\n",
       "             max_delta_step=0, max_depth=6, max_leaves=0, min_child_weight=1,\n",
       "             missing=nan, monotone_constraints='()', n_estimators=400, n_jobs=4,\n",
       "             num_parallel_tree=1, predictor='auto', random_state=34,\n",
       "             reg_alpha=0, reg_lambda=1, ...)"
      ]
     },
     "execution_count": 85,
     "metadata": {},
     "output_type": "execute_result"
    }
   ],
   "source": [
    "xgboost_custmorID.fit(X=X_train,y=y_train, eval_set=[(X_val, y_val)],verbose=0)"
   ]
  },
  {
   "cell_type": "code",
   "execution_count": 86,
   "id": "583b87b5",
   "metadata": {},
   "outputs": [],
   "source": [
    "predict = xgboost_custmorID.predict(X_val)"
   ]
  },
  {
   "cell_type": "code",
   "execution_count": 88,
   "id": "f6954ad9",
   "metadata": {},
   "outputs": [
    {
     "ename": "TypeError",
     "evalue": "only size-1 arrays can be converted to Python scalars",
     "output_type": "error",
     "traceback": [
      "\u001b[1;31m---------------------------------------------------------------------------\u001b[0m",
      "\u001b[1;31mTypeError\u001b[0m                                 Traceback (most recent call last)",
      "\u001b[1;32m<ipython-input-88-6fb9da96e13a>\u001b[0m in \u001b[0;36m<module>\u001b[1;34m\u001b[0m\n\u001b[1;32m----> 1\u001b[1;33m \u001b[0mint\u001b[0m\u001b[1;33m(\u001b[0m\u001b[0mpredict\u001b[0m\u001b[1;33m)\u001b[0m\u001b[1;33m\u001b[0m\u001b[1;33m\u001b[0m\u001b[0m\n\u001b[0m",
      "\u001b[1;31mTypeError\u001b[0m: only size-1 arrays can be converted to Python scalars"
     ]
    }
   ],
   "source": []
  },
  {
   "cell_type": "code",
   "execution_count": null,
   "id": "2d105c85",
   "metadata": {},
   "outputs": [],
   "source": []
  }
 ],
 "metadata": {
  "kernelspec": {
   "display_name": "Python 3",
   "language": "python",
   "name": "python3"
  },
  "language_info": {
   "codemirror_mode": {
    "name": "ipython",
    "version": 3
   },
   "file_extension": ".py",
   "mimetype": "text/x-python",
   "name": "python",
   "nbconvert_exporter": "python",
   "pygments_lexer": "ipython3",
   "version": "3.8.8"
  }
 },
 "nbformat": 4,
 "nbformat_minor": 5
}
